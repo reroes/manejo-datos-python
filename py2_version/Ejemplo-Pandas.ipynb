{
 "cells": [
  {
   "cell_type": "markdown",
   "metadata": {},
   "source": [
    "## Código en lenguaje Python\n",
    "\n",
    "#### Para ejecutar el script se debe tener en el directorio un archivo con extensión XLS o XLSX de la utilidad https://tags.hawksey.info/\n",
    "#### Como resultado se genera dos archivos en formato CSV con #tags y #users del atributo\n",
    "\n"
   ]
  },
  {
   "cell_type": "code",
   "execution_count": 1,
   "metadata": {},
   "outputs": [],
   "source": [
    "# importar librerías\n",
    "import pandas as pd\n",
    "import numpy as np\n",
    "import json\n",
    "import codecs\n",
    "import unicodedata\n",
    "import re\n"
   ]
  },
  {
   "cell_type": "code",
   "execution_count": 2,
   "metadata": {},
   "outputs": [
    {
     "name": "stderr",
     "output_type": "stream",
     "text": [
      "/home/reroes/entornos/envpy3/lib/python3.5/site-packages/pandas/util/_decorators.py:118: FutureWarning: The `sheetname` keyword is deprecated, use `sheet_name` instead\n",
      "  return func(*args, **kwargs)\n"
     ]
    }
   ],
   "source": [
    "# cambiar el nombre del archivo (tuits_ecuador_2.xlsx) en función del generado\n",
    "# desde la utilidad https://tags.hawksey.info/\n",
    "nombre_archivo_tags = \"tuits_ecuador_2.xlsx\" #Ejemplo: archivo_generado.xlsx \n",
    "\n",
    "data = pd.read_excel(\"../data/%s\" % (nombre_archivo_tags), sheetname=\"Archive\")\n",
    "\n",
    "# archivos generados\n",
    "archivo_tags = codecs.open(\"../data/archivo_tags.csv\", \"w\", encoding=\"utf-8\")\n",
    "archivo_users = codecs.open(\"../data/archivo_users.csv\", \"w\", encoding=\"utf-8\")\n",
    "\n",
    "archivo_tags.write(\"%s;%s\\n\" % (\"source\",\"target\"))\n",
    "archivo_users.write(\"%s;%s\\n\" % (\"source\",\"target\"))"
   ]
  },
  {
   "cell_type": "code",
   "execution_count": 3,
   "metadata": {},
   "outputs": [
    {
     "data": {
      "text/plain": [
       "(5906, 18)"
      ]
     },
     "execution_count": 3,
     "metadata": {},
     "output_type": "execute_result"
    }
   ],
   "source": [
    "data.shape"
   ]
  },
  {
   "cell_type": "code",
   "execution_count": 16,
   "metadata": {},
   "outputs": [
    {
     "data": {
      "text/plain": [
       "Index([u'id_str', u'from_user', u'text', u'created_at', u'time',\n",
       "       u'geo_coordinates', u'user_lang', u'in_reply_to_user_id_str',\n",
       "       u'in_reply_to_screen_name', u'from_user_id_str',\n",
       "       u'in_reply_to_status_id_str', u'source', u'profile_image_url',\n",
       "       u'user_followers_count', u'user_friends_count', u'user_location',\n",
       "       u'status_url', u'entities_str'],\n",
       "      dtype='object')"
      ]
     },
     "execution_count": 16,
     "metadata": {},
     "output_type": "execute_result"
    }
   ],
   "source": [
    "data.keys()"
   ]
  },
  {
   "cell_type": "code",
   "execution_count": 17,
   "metadata": {},
   "outputs": [],
   "source": [
    "def limpiar_cadena(cadena):\n",
    "    \"\"\"\n",
    "        Proceso que permite limpiar la cadena de caracteres\n",
    "        especiales\n",
    "    \"\"\"\n",
    "    s = unicodedata.normalize('NFD', cadena)\n",
    "    return re.sub(r'[^\\w{ASCII}]', '', s)\n"
   ]
  },
  {
   "cell_type": "code",
   "execution_count": 18,
   "metadata": {},
   "outputs": [],
   "source": [
    "def obtener_tags(registro):\n",
    "    \"\"\"\n",
    "        Obtener los tags del atributo\n",
    "        entities_str\n",
    "    \"\"\"\n",
    "    try:\n",
    "        datos = json.loads(registro['entities_str'])\n",
    "        for a, b in tuplas_hashtags(datos['hashtags']):\n",
    "            archivo_tags.write(\"%s;%s\\n\" % (limpiar_cadena(a), limpiar_cadena(b)))\n",
    "    except:\n",
    "        print(\"Error\")\n",
    "    return \"\"\n",
    "    \n",
    "def obtener_users(registro):\n",
    "    \"\"\"\n",
    "        Obtener los usuarios y sus mentions del atributo\n",
    "        entities_str\n",
    "    \"\"\"\n",
    "    datos = json.loads(registro['entities_str'])\n",
    "    for a, b in tuplas_users(datos['user_mentions'], registro['from_user']):\n",
    "        archivo_users.write(\"%s;%s\\n\" % (a, b))\n",
    "    return \"\""
   ]
  },
  {
   "cell_type": "code",
   "execution_count": 19,
   "metadata": {},
   "outputs": [],
   "source": [
    "def tuplas_hashtags(lista):\n",
    "    lista_nombres = [d['text'] for d in lista]\n",
    "    lista_tags = []\n",
    "    for l in lista_nombres:\n",
    "        for l2 in lista_nombres:\n",
    "            if l != l2:\n",
    "                lista_tags.append([l, l2])\n",
    "    for l in lista_tags:\n",
    "        l.sort()\n",
    "    \n",
    "    lista_tags = list(set(tuple(row) for row in lista_tags))\n",
    "    return lista_tags\n",
    "\n",
    "def tuplas_users(lista, username):\n",
    "    lista_nombres = [d['screen_name'] for d in lista]\n",
    "    lista_tags = []\n",
    "    for l in lista_nombres:\n",
    "        lista_tags.append((username, l))\n",
    "    \n",
    "    return lista_tags"
   ]
  },
  {
   "cell_type": "code",
   "execution_count": 20,
   "metadata": {},
   "outputs": [
    {
     "data": {
      "text/plain": [
       "0        \n",
       "1        \n",
       "2        \n",
       "3        \n",
       "4        \n",
       "5        \n",
       "6        \n",
       "7        \n",
       "8        \n",
       "9        \n",
       "10       \n",
       "11       \n",
       "12       \n",
       "13       \n",
       "14       \n",
       "15       \n",
       "16       \n",
       "17       \n",
       "18       \n",
       "19       \n",
       "20       \n",
       "21       \n",
       "22       \n",
       "23       \n",
       "24       \n",
       "25       \n",
       "26       \n",
       "27       \n",
       "28       \n",
       "29       \n",
       "       ..\n",
       "5876     \n",
       "5877     \n",
       "5878     \n",
       "5879     \n",
       "5880     \n",
       "5881     \n",
       "5882     \n",
       "5883     \n",
       "5884     \n",
       "5885     \n",
       "5886     \n",
       "5887     \n",
       "5888     \n",
       "5889     \n",
       "5890     \n",
       "5891     \n",
       "5892     \n",
       "5893     \n",
       "5894     \n",
       "5895     \n",
       "5896     \n",
       "5897     \n",
       "5898     \n",
       "5899     \n",
       "5900     \n",
       "5901     \n",
       "5902     \n",
       "5903     \n",
       "5904     \n",
       "5905     \n",
       "Length: 5906, dtype: object"
      ]
     },
     "execution_count": 20,
     "metadata": {},
     "output_type": "execute_result"
    }
   ],
   "source": [
    "data.apply(obtener_tags, axis=1) # generar archivo de tags"
   ]
  },
  {
   "cell_type": "code",
   "execution_count": 21,
   "metadata": {},
   "outputs": [
    {
     "data": {
      "text/plain": [
       "0        \n",
       "1        \n",
       "2        \n",
       "3        \n",
       "4        \n",
       "5        \n",
       "6        \n",
       "7        \n",
       "8        \n",
       "9        \n",
       "10       \n",
       "11       \n",
       "12       \n",
       "13       \n",
       "14       \n",
       "15       \n",
       "16       \n",
       "17       \n",
       "18       \n",
       "19       \n",
       "20       \n",
       "21       \n",
       "22       \n",
       "23       \n",
       "24       \n",
       "25       \n",
       "26       \n",
       "27       \n",
       "28       \n",
       "29       \n",
       "       ..\n",
       "5876     \n",
       "5877     \n",
       "5878     \n",
       "5879     \n",
       "5880     \n",
       "5881     \n",
       "5882     \n",
       "5883     \n",
       "5884     \n",
       "5885     \n",
       "5886     \n",
       "5887     \n",
       "5888     \n",
       "5889     \n",
       "5890     \n",
       "5891     \n",
       "5892     \n",
       "5893     \n",
       "5894     \n",
       "5895     \n",
       "5896     \n",
       "5897     \n",
       "5898     \n",
       "5899     \n",
       "5900     \n",
       "5901     \n",
       "5902     \n",
       "5903     \n",
       "5904     \n",
       "5905     \n",
       "Length: 5906, dtype: object"
      ]
     },
     "execution_count": 21,
     "metadata": {},
     "output_type": "execute_result"
    }
   ],
   "source": [
    "data.apply(obtener_users, axis=1) # generar archivo de users"
   ]
  },
  {
   "cell_type": "code",
   "execution_count": 11,
   "metadata": {},
   "outputs": [],
   "source": [
    "# cerrar archivos creados\n",
    "archivo_tags.close()\n",
    "archivo_users.close()"
   ]
  },
  {
   "cell_type": "code",
   "execution_count": null,
   "metadata": {},
   "outputs": [],
   "source": []
  },
  {
   "cell_type": "code",
   "execution_count": null,
   "metadata": {},
   "outputs": [],
   "source": []
  }
 ],
 "metadata": {
  "kernelspec": {
   "display_name": "Python 3",
   "language": "python",
   "name": "python3"
  },
  "language_info": {
   "codemirror_mode": {
    "name": "ipython",
    "version": 3
   },
   "file_extension": ".py",
   "mimetype": "text/x-python",
   "name": "python",
   "nbconvert_exporter": "python",
   "pygments_lexer": "ipython3",
   "version": "3.5.2"
  }
 },
 "nbformat": 4,
 "nbformat_minor": 1
}
